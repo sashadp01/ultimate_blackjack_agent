{
 "cells": [
  {
   "cell_type": "markdown",
   "metadata": {},
   "source": [
    "# Bet Classifier - Determining how much to bet in Blackjack"
   ]
  },
  {
   "cell_type": "code",
   "execution_count": 1,
   "metadata": {},
   "outputs": [],
   "source": [
    "import pandas as pd\n",
    "import numpy as np\n",
    "import matplotlib.pyplot as plt\n",
    "from torch.utils.data import DataLoader\n",
    "from utils.classifier_utils import *\n",
    "from catboost import CatBoostRegressor"
   ]
  },
  {
   "cell_type": "code",
   "execution_count": 2,
   "metadata": {},
   "outputs": [
    {
     "name": "stdout",
     "output_type": "stream",
     "text": [
      "cuda:0\n"
     ]
    }
   ],
   "source": [
    "#set torch device\n",
    "device = torch.device(\"cuda:0\" if torch.cuda.is_available() else \"cpu\")\n",
    "#device = torch.device(\"cpu\")\n",
    "print(device)"
   ]
  },
  {
   "cell_type": "markdown",
   "metadata": {},
   "source": [
    "## Load the dataset"
   ]
  },
  {
   "cell_type": "code",
   "execution_count": 4,
   "metadata": {},
   "outputs": [
    {
     "name": "stdout",
     "output_type": "stream",
     "text": [
      "   Ace  Two  Three  Four  Five  Six  Seven  Eight  Nine  Ten  Reward\n",
      "0  1.0  2.0    1.0   2.0   2.0  1.0    1.0    3.0   1.0  6.0    -1.0\n",
      "1  0.0  1.0    1.0   1.0   1.0  0.0    0.0    0.0   1.0  4.0     0.0\n",
      "2  1.0  1.0    0.0   1.0   2.0  0.0    0.0    3.0   2.0  8.0    -1.0\n",
      "3  2.0  2.0    1.0   3.0   0.0  1.0    1.0    3.0   3.0  7.0    -0.5\n",
      "4  1.0  2.0    2.0   0.0   1.0  1.0    3.0    1.0   1.0  5.0    -0.5\n"
     ]
    }
   ],
   "source": [
    "dataset_name =  'f_PPO_counting_1_deck_linear_lr_dataset.csv'\n",
    "dataset = pd.read_csv('data/datasets/' + dataset_name,dtype=np.float32)\n",
    "print(dataset.head())"
   ]
  },
  {
   "cell_type": "markdown",
   "metadata": {},
   "source": [
    "## Prepare dataloader for training"
   ]
  },
  {
   "cell_type": "code",
   "execution_count": 5,
   "metadata": {},
   "outputs": [],
   "source": [
    "#split dataset into training and validation\n",
    "batch_size = 1000\n",
    "dataset_usage = 1.0 #percentage of dataset to use in total\n",
    "split = 0.8 #percentage of dataset_usafe to use for training\n",
    "train_dataset = BetsDataset(dataset.iloc[:int(len(dataset)*dataset_usage*split)])\n",
    "val_dataset = BetsDataset(dataset.iloc[int(len(dataset)*dataset_usage*split):int(len(dataset)*dataset_usage)])\n",
    "train_loader = DataLoader(train_dataset, batch_size=batch_size, shuffle=True)\n",
    "val_loader = DataLoader(val_dataset, batch_size=batch_size, shuffle=False)\n",
    "\n"
   ]
  },
  {
   "cell_type": "code",
   "execution_count": 6,
   "metadata": {},
   "outputs": [
    {
     "name": "stdout",
     "output_type": "stream",
     "text": [
      "Training dataset size: 8000000\n",
      "Validation dataset size: 2000000\n"
     ]
    }
   ],
   "source": [
    "print('Training dataset size:', len(train_dataset))\n",
    "print('Validation dataset size:', len(val_dataset))\n"
   ]
  },
  {
   "cell_type": "code",
   "execution_count": 7,
   "metadata": {},
   "outputs": [
    {
     "name": "stdout",
     "output_type": "stream",
     "text": [
      "0:\tlearn: 1.0458491\ttest: 1.0460290\tbest: 1.0460290 (0)\ttotal: 107ms\tremaining: 32s\n",
      "1:\tlearn: 1.0458186\ttest: 1.0459998\tbest: 1.0459998 (1)\ttotal: 160ms\tremaining: 23.8s\n",
      "2:\tlearn: 1.0457935\ttest: 1.0459762\tbest: 1.0459762 (2)\ttotal: 213ms\tremaining: 21.1s\n",
      "3:\tlearn: 1.0457718\ttest: 1.0459536\tbest: 1.0459536 (3)\ttotal: 268ms\tremaining: 19.8s\n",
      "4:\tlearn: 1.0457511\ttest: 1.0459343\tbest: 1.0459343 (4)\ttotal: 320ms\tremaining: 18.9s\n",
      "5:\tlearn: 1.0457340\ttest: 1.0459167\tbest: 1.0459167 (5)\ttotal: 372ms\tremaining: 18.2s\n",
      "6:\tlearn: 1.0457191\ttest: 1.0459030\tbest: 1.0459030 (6)\ttotal: 423ms\tremaining: 17.7s\n",
      "7:\tlearn: 1.0457042\ttest: 1.0458857\tbest: 1.0458857 (7)\ttotal: 474ms\tremaining: 17.3s\n",
      "8:\tlearn: 1.0456910\ttest: 1.0458739\tbest: 1.0458739 (8)\ttotal: 526ms\tremaining: 17s\n",
      "9:\tlearn: 1.0456787\ttest: 1.0458613\tbest: 1.0458613 (9)\ttotal: 577ms\tremaining: 16.7s\n",
      "10:\tlearn: 1.0456683\ttest: 1.0458498\tbest: 1.0458498 (10)\ttotal: 630ms\tremaining: 16.5s\n",
      "11:\tlearn: 1.0456561\ttest: 1.0458380\tbest: 1.0458380 (11)\ttotal: 685ms\tremaining: 16.4s\n",
      "12:\tlearn: 1.0456470\ttest: 1.0458297\tbest: 1.0458297 (12)\ttotal: 734ms\tremaining: 16.2s\n",
      "13:\tlearn: 1.0456367\ttest: 1.0458190\tbest: 1.0458190 (13)\ttotal: 786ms\tremaining: 16.1s\n",
      "14:\tlearn: 1.0456268\ttest: 1.0458090\tbest: 1.0458090 (14)\ttotal: 840ms\tremaining: 16s\n",
      "15:\tlearn: 1.0456192\ttest: 1.0458013\tbest: 1.0458013 (15)\ttotal: 891ms\tremaining: 15.8s\n",
      "16:\tlearn: 1.0456109\ttest: 1.0457933\tbest: 1.0457933 (16)\ttotal: 945ms\tremaining: 15.7s\n",
      "17:\tlearn: 1.0456026\ttest: 1.0457868\tbest: 1.0457868 (17)\ttotal: 996ms\tremaining: 15.6s\n",
      "18:\tlearn: 1.0455952\ttest: 1.0457793\tbest: 1.0457793 (18)\ttotal: 1.05s\tremaining: 15.5s\n",
      "19:\tlearn: 1.0455876\ttest: 1.0457723\tbest: 1.0457723 (19)\ttotal: 1.1s\tremaining: 15.4s\n",
      "20:\tlearn: 1.0455817\ttest: 1.0457642\tbest: 1.0457642 (20)\ttotal: 1.15s\tremaining: 15.3s\n",
      "21:\tlearn: 1.0455750\ttest: 1.0457588\tbest: 1.0457588 (21)\ttotal: 1.2s\tremaining: 15.2s\n",
      "22:\tlearn: 1.0455702\ttest: 1.0457530\tbest: 1.0457530 (22)\ttotal: 1.25s\tremaining: 15.1s\n",
      "23:\tlearn: 1.0455638\ttest: 1.0457477\tbest: 1.0457477 (23)\ttotal: 1.3s\tremaining: 15s\n",
      "24:\tlearn: 1.0455585\ttest: 1.0457422\tbest: 1.0457422 (24)\ttotal: 1.36s\tremaining: 14.9s\n",
      "25:\tlearn: 1.0455533\ttest: 1.0457368\tbest: 1.0457368 (25)\ttotal: 1.41s\tremaining: 14.8s\n",
      "26:\tlearn: 1.0455482\ttest: 1.0457320\tbest: 1.0457320 (26)\ttotal: 1.46s\tremaining: 14.7s\n",
      "27:\tlearn: 1.0455428\ttest: 1.0457262\tbest: 1.0457262 (27)\ttotal: 1.51s\tremaining: 14.7s\n",
      "28:\tlearn: 1.0455398\ttest: 1.0457227\tbest: 1.0457227 (28)\ttotal: 1.56s\tremaining: 14.6s\n",
      "29:\tlearn: 1.0455340\ttest: 1.0457181\tbest: 1.0457181 (29)\ttotal: 1.61s\tremaining: 14.5s\n",
      "30:\tlearn: 1.0455297\ttest: 1.0457141\tbest: 1.0457141 (30)\ttotal: 1.67s\tremaining: 14.5s\n",
      "31:\tlearn: 1.0455266\ttest: 1.0457096\tbest: 1.0457096 (31)\ttotal: 1.72s\tremaining: 14.4s\n",
      "32:\tlearn: 1.0455224\ttest: 1.0457059\tbest: 1.0457059 (32)\ttotal: 1.77s\tremaining: 14.3s\n",
      "33:\tlearn: 1.0455194\ttest: 1.0457033\tbest: 1.0457033 (33)\ttotal: 1.82s\tremaining: 14.3s\n",
      "34:\tlearn: 1.0455144\ttest: 1.0456993\tbest: 1.0456993 (34)\ttotal: 1.88s\tremaining: 14.2s\n",
      "35:\tlearn: 1.0455129\ttest: 1.0456967\tbest: 1.0456967 (35)\ttotal: 1.93s\tremaining: 14.1s\n",
      "36:\tlearn: 1.0455085\ttest: 1.0456933\tbest: 1.0456933 (36)\ttotal: 1.98s\tremaining: 14.1s\n",
      "37:\tlearn: 1.0455066\ttest: 1.0456911\tbest: 1.0456911 (37)\ttotal: 2.03s\tremaining: 14s\n",
      "38:\tlearn: 1.0455038\ttest: 1.0456881\tbest: 1.0456881 (38)\ttotal: 2.08s\tremaining: 14s\n",
      "39:\tlearn: 1.0455003\ttest: 1.0456859\tbest: 1.0456859 (39)\ttotal: 2.14s\tremaining: 13.9s\n",
      "40:\tlearn: 1.0454977\ttest: 1.0456835\tbest: 1.0456835 (40)\ttotal: 2.19s\tremaining: 13.8s\n",
      "41:\tlearn: 1.0454958\ttest: 1.0456819\tbest: 1.0456819 (41)\ttotal: 2.24s\tremaining: 13.8s\n",
      "42:\tlearn: 1.0454935\ttest: 1.0456793\tbest: 1.0456793 (42)\ttotal: 2.29s\tremaining: 13.7s\n",
      "43:\tlearn: 1.0454905\ttest: 1.0456766\tbest: 1.0456766 (43)\ttotal: 2.34s\tremaining: 13.6s\n",
      "44:\tlearn: 1.0454880\ttest: 1.0456747\tbest: 1.0456747 (44)\ttotal: 2.39s\tremaining: 13.5s\n",
      "45:\tlearn: 1.0454855\ttest: 1.0456720\tbest: 1.0456720 (45)\ttotal: 2.44s\tremaining: 13.5s\n",
      "46:\tlearn: 1.0454833\ttest: 1.0456687\tbest: 1.0456687 (46)\ttotal: 2.5s\tremaining: 13.5s\n",
      "47:\tlearn: 1.0454819\ttest: 1.0456665\tbest: 1.0456665 (47)\ttotal: 2.55s\tremaining: 13.4s\n",
      "48:\tlearn: 1.0454797\ttest: 1.0456649\tbest: 1.0456649 (48)\ttotal: 2.6s\tremaining: 13.3s\n",
      "49:\tlearn: 1.0454773\ttest: 1.0456627\tbest: 1.0456627 (49)\ttotal: 2.65s\tremaining: 13.3s\n",
      "50:\tlearn: 1.0454760\ttest: 1.0456615\tbest: 1.0456615 (50)\ttotal: 2.7s\tremaining: 13.2s\n",
      "51:\tlearn: 1.0454741\ttest: 1.0456597\tbest: 1.0456597 (51)\ttotal: 2.75s\tremaining: 13.1s\n",
      "52:\tlearn: 1.0454717\ttest: 1.0456570\tbest: 1.0456570 (52)\ttotal: 2.81s\tremaining: 13.1s\n",
      "53:\tlearn: 1.0454699\ttest: 1.0456561\tbest: 1.0456561 (53)\ttotal: 2.86s\tremaining: 13s\n",
      "54:\tlearn: 1.0454687\ttest: 1.0456558\tbest: 1.0456558 (54)\ttotal: 2.91s\tremaining: 13s\n",
      "55:\tlearn: 1.0454662\ttest: 1.0456533\tbest: 1.0456533 (55)\ttotal: 2.97s\tremaining: 12.9s\n",
      "56:\tlearn: 1.0454653\ttest: 1.0456518\tbest: 1.0456518 (56)\ttotal: 3.02s\tremaining: 12.9s\n",
      "57:\tlearn: 1.0454635\ttest: 1.0456505\tbest: 1.0456505 (57)\ttotal: 3.07s\tremaining: 12.8s\n",
      "58:\tlearn: 1.0454630\ttest: 1.0456494\tbest: 1.0456494 (58)\ttotal: 3.12s\tremaining: 12.8s\n",
      "59:\tlearn: 1.0454617\ttest: 1.0456488\tbest: 1.0456488 (59)\ttotal: 3.17s\tremaining: 12.7s\n",
      "60:\tlearn: 1.0454600\ttest: 1.0456476\tbest: 1.0456476 (60)\ttotal: 3.23s\tremaining: 12.6s\n",
      "61:\tlearn: 1.0454587\ttest: 1.0456456\tbest: 1.0456456 (61)\ttotal: 3.28s\tremaining: 12.6s\n",
      "62:\tlearn: 1.0454570\ttest: 1.0456442\tbest: 1.0456442 (62)\ttotal: 3.33s\tremaining: 12.5s\n",
      "63:\tlearn: 1.0454561\ttest: 1.0456430\tbest: 1.0456430 (63)\ttotal: 3.38s\tremaining: 12.5s\n",
      "64:\tlearn: 1.0454544\ttest: 1.0456417\tbest: 1.0456417 (64)\ttotal: 3.44s\tremaining: 12.4s\n",
      "65:\tlearn: 1.0454531\ttest: 1.0456407\tbest: 1.0456407 (65)\ttotal: 3.49s\tremaining: 12.4s\n",
      "66:\tlearn: 1.0454510\ttest: 1.0456397\tbest: 1.0456397 (66)\ttotal: 3.54s\tremaining: 12.3s\n",
      "67:\tlearn: 1.0454501\ttest: 1.0456389\tbest: 1.0456389 (67)\ttotal: 3.59s\tremaining: 12.3s\n",
      "68:\tlearn: 1.0454489\ttest: 1.0456372\tbest: 1.0456372 (68)\ttotal: 3.64s\tremaining: 12.2s\n",
      "69:\tlearn: 1.0454483\ttest: 1.0456370\tbest: 1.0456370 (69)\ttotal: 3.69s\tremaining: 12.1s\n",
      "70:\tlearn: 1.0454467\ttest: 1.0456361\tbest: 1.0456361 (70)\ttotal: 3.74s\tremaining: 12.1s\n",
      "71:\tlearn: 1.0454459\ttest: 1.0456357\tbest: 1.0456357 (71)\ttotal: 3.79s\tremaining: 12s\n",
      "72:\tlearn: 1.0454450\ttest: 1.0456346\tbest: 1.0456346 (72)\ttotal: 3.85s\tremaining: 12s\n",
      "73:\tlearn: 1.0454443\ttest: 1.0456343\tbest: 1.0456343 (73)\ttotal: 3.9s\tremaining: 11.9s\n",
      "74:\tlearn: 1.0454444\ttest: 1.0456334\tbest: 1.0456334 (74)\ttotal: 3.95s\tremaining: 11.8s\n",
      "75:\tlearn: 1.0454430\ttest: 1.0456327\tbest: 1.0456327 (75)\ttotal: 4s\tremaining: 11.8s\n",
      "76:\tlearn: 1.0454420\ttest: 1.0456313\tbest: 1.0456313 (76)\ttotal: 4.05s\tremaining: 11.7s\n",
      "77:\tlearn: 1.0454413\ttest: 1.0456306\tbest: 1.0456306 (77)\ttotal: 4.1s\tremaining: 11.7s\n",
      "78:\tlearn: 1.0454405\ttest: 1.0456302\tbest: 1.0456302 (78)\ttotal: 4.15s\tremaining: 11.6s\n",
      "79:\tlearn: 1.0454387\ttest: 1.0456288\tbest: 1.0456288 (79)\ttotal: 4.21s\tremaining: 11.6s\n",
      "80:\tlearn: 1.0454383\ttest: 1.0456282\tbest: 1.0456282 (80)\ttotal: 4.26s\tremaining: 11.5s\n",
      "81:\tlearn: 1.0454373\ttest: 1.0456276\tbest: 1.0456276 (81)\ttotal: 4.31s\tremaining: 11.5s\n",
      "82:\tlearn: 1.0454367\ttest: 1.0456267\tbest: 1.0456267 (82)\ttotal: 4.36s\tremaining: 11.4s\n",
      "83:\tlearn: 1.0454364\ttest: 1.0456260\tbest: 1.0456260 (83)\ttotal: 4.42s\tremaining: 11.4s\n",
      "84:\tlearn: 1.0454356\ttest: 1.0456253\tbest: 1.0456253 (84)\ttotal: 4.47s\tremaining: 11.3s\n",
      "85:\tlearn: 1.0454351\ttest: 1.0456249\tbest: 1.0456249 (85)\ttotal: 4.52s\tremaining: 11.3s\n",
      "86:\tlearn: 1.0454335\ttest: 1.0456243\tbest: 1.0456243 (86)\ttotal: 4.58s\tremaining: 11.2s\n",
      "87:\tlearn: 1.0454327\ttest: 1.0456240\tbest: 1.0456240 (87)\ttotal: 4.63s\tremaining: 11.2s\n",
      "88:\tlearn: 1.0454324\ttest: 1.0456232\tbest: 1.0456232 (88)\ttotal: 4.68s\tremaining: 11.1s\n",
      "89:\tlearn: 1.0454321\ttest: 1.0456224\tbest: 1.0456224 (89)\ttotal: 4.74s\tremaining: 11s\n",
      "90:\tlearn: 1.0454310\ttest: 1.0456228\tbest: 1.0456224 (89)\ttotal: 4.79s\tremaining: 11s\n",
      "91:\tlearn: 1.0454305\ttest: 1.0456221\tbest: 1.0456221 (91)\ttotal: 4.84s\tremaining: 10.9s\n",
      "92:\tlearn: 1.0454297\ttest: 1.0456221\tbest: 1.0456221 (91)\ttotal: 4.89s\tremaining: 10.9s\n",
      "93:\tlearn: 1.0454286\ttest: 1.0456216\tbest: 1.0456216 (93)\ttotal: 4.94s\tremaining: 10.8s\n",
      "94:\tlearn: 1.0454275\ttest: 1.0456206\tbest: 1.0456206 (94)\ttotal: 5s\tremaining: 10.8s\n",
      "95:\tlearn: 1.0454275\ttest: 1.0456204\tbest: 1.0456204 (95)\ttotal: 5.05s\tremaining: 10.7s\n",
      "96:\tlearn: 1.0454266\ttest: 1.0456197\tbest: 1.0456197 (96)\ttotal: 5.1s\tremaining: 10.7s\n",
      "97:\tlearn: 1.0454260\ttest: 1.0456195\tbest: 1.0456195 (97)\ttotal: 5.16s\tremaining: 10.6s\n",
      "98:\tlearn: 1.0454251\ttest: 1.0456196\tbest: 1.0456195 (97)\ttotal: 5.21s\tremaining: 10.6s\n",
      "99:\tlearn: 1.0454246\ttest: 1.0456193\tbest: 1.0456193 (99)\ttotal: 5.26s\tremaining: 10.5s\n",
      "100:\tlearn: 1.0454238\ttest: 1.0456189\tbest: 1.0456189 (100)\ttotal: 5.31s\tremaining: 10.5s\n",
      "101:\tlearn: 1.0454238\ttest: 1.0456182\tbest: 1.0456182 (101)\ttotal: 5.36s\tremaining: 10.4s\n",
      "102:\tlearn: 1.0454229\ttest: 1.0456179\tbest: 1.0456179 (102)\ttotal: 5.41s\tremaining: 10.4s\n",
      "103:\tlearn: 1.0454222\ttest: 1.0456179\tbest: 1.0456179 (102)\ttotal: 5.46s\tremaining: 10.3s\n",
      "104:\tlearn: 1.0454216\ttest: 1.0456178\tbest: 1.0456178 (104)\ttotal: 5.52s\tremaining: 10.3s\n",
      "105:\tlearn: 1.0454208\ttest: 1.0456172\tbest: 1.0456172 (105)\ttotal: 5.57s\tremaining: 10.2s\n",
      "106:\tlearn: 1.0454205\ttest: 1.0456166\tbest: 1.0456166 (106)\ttotal: 5.62s\tremaining: 10.1s\n",
      "107:\tlearn: 1.0454200\ttest: 1.0456167\tbest: 1.0456166 (106)\ttotal: 5.67s\tremaining: 10.1s\n",
      "108:\tlearn: 1.0454194\ttest: 1.0456166\tbest: 1.0456166 (106)\ttotal: 5.72s\tremaining: 10s\n",
      "109:\tlearn: 1.0454194\ttest: 1.0456161\tbest: 1.0456161 (109)\ttotal: 5.78s\tremaining: 9.98s\n",
      "110:\tlearn: 1.0454188\ttest: 1.0456166\tbest: 1.0456161 (109)\ttotal: 5.83s\tremaining: 9.93s\n",
      "111:\tlearn: 1.0454179\ttest: 1.0456161\tbest: 1.0456161 (111)\ttotal: 5.88s\tremaining: 9.87s\n",
      "112:\tlearn: 1.0454170\ttest: 1.0456157\tbest: 1.0456157 (112)\ttotal: 5.93s\tremaining: 9.82s\n",
      "113:\tlearn: 1.0454165\ttest: 1.0456152\tbest: 1.0456152 (113)\ttotal: 5.99s\tremaining: 9.77s\n",
      "114:\tlearn: 1.0454167\ttest: 1.0456151\tbest: 1.0456151 (114)\ttotal: 6.04s\tremaining: 9.71s\n",
      "115:\tlearn: 1.0454166\ttest: 1.0456148\tbest: 1.0456148 (115)\ttotal: 6.09s\tremaining: 9.66s\n",
      "116:\tlearn: 1.0454165\ttest: 1.0456146\tbest: 1.0456146 (116)\ttotal: 6.14s\tremaining: 9.6s\n",
      "117:\tlearn: 1.0454160\ttest: 1.0456142\tbest: 1.0456142 (117)\ttotal: 6.19s\tremaining: 9.55s\n",
      "118:\tlearn: 1.0454161\ttest: 1.0456148\tbest: 1.0456142 (117)\ttotal: 6.24s\tremaining: 9.5s\n",
      "119:\tlearn: 1.0454157\ttest: 1.0456146\tbest: 1.0456142 (117)\ttotal: 6.3s\tremaining: 9.44s\n",
      "120:\tlearn: 1.0454147\ttest: 1.0456145\tbest: 1.0456142 (117)\ttotal: 6.35s\tremaining: 9.39s\n",
      "121:\tlearn: 1.0454148\ttest: 1.0456141\tbest: 1.0456141 (121)\ttotal: 6.4s\tremaining: 9.34s\n",
      "122:\tlearn: 1.0454143\ttest: 1.0456139\tbest: 1.0456139 (122)\ttotal: 6.45s\tremaining: 9.29s\n",
      "123:\tlearn: 1.0454139\ttest: 1.0456138\tbest: 1.0456138 (123)\ttotal: 6.5s\tremaining: 9.23s\n",
      "124:\tlearn: 1.0454143\ttest: 1.0456133\tbest: 1.0456133 (124)\ttotal: 6.55s\tremaining: 9.17s\n",
      "125:\tlearn: 1.0454134\ttest: 1.0456133\tbest: 1.0456133 (124)\ttotal: 6.61s\tremaining: 9.12s\n",
      "126:\tlearn: 1.0454131\ttest: 1.0456135\tbest: 1.0456133 (124)\ttotal: 6.66s\tremaining: 9.07s\n",
      "127:\tlearn: 1.0454126\ttest: 1.0456128\tbest: 1.0456128 (127)\ttotal: 6.71s\tremaining: 9.02s\n",
      "128:\tlearn: 1.0454119\ttest: 1.0456125\tbest: 1.0456125 (128)\ttotal: 6.76s\tremaining: 8.96s\n",
      "129:\tlearn: 1.0454112\ttest: 1.0456127\tbest: 1.0456125 (128)\ttotal: 6.81s\tremaining: 8.91s\n",
      "130:\tlearn: 1.0454109\ttest: 1.0456130\tbest: 1.0456125 (128)\ttotal: 6.87s\tremaining: 8.86s\n",
      "131:\tlearn: 1.0454110\ttest: 1.0456125\tbest: 1.0456125 (128)\ttotal: 6.92s\tremaining: 8.81s\n",
      "132:\tlearn: 1.0454104\ttest: 1.0456126\tbest: 1.0456125 (128)\ttotal: 6.97s\tremaining: 8.75s\n",
      "133:\tlearn: 1.0454098\ttest: 1.0456127\tbest: 1.0456125 (128)\ttotal: 7.02s\tremaining: 8.7s\n",
      "134:\tlearn: 1.0454097\ttest: 1.0456127\tbest: 1.0456125 (128)\ttotal: 7.08s\tremaining: 8.65s\n",
      "135:\tlearn: 1.0454095\ttest: 1.0456127\tbest: 1.0456125 (128)\ttotal: 7.13s\tremaining: 8.6s\n",
      "136:\tlearn: 1.0454092\ttest: 1.0456126\tbest: 1.0456125 (128)\ttotal: 7.18s\tremaining: 8.55s\n",
      "137:\tlearn: 1.0454092\ttest: 1.0456122\tbest: 1.0456122 (137)\ttotal: 7.24s\tremaining: 8.49s\n",
      "138:\tlearn: 1.0454087\ttest: 1.0456125\tbest: 1.0456122 (137)\ttotal: 7.29s\tremaining: 8.44s\n",
      "139:\tlearn: 1.0454079\ttest: 1.0456116\tbest: 1.0456116 (139)\ttotal: 7.34s\tremaining: 8.39s\n",
      "140:\tlearn: 1.0454081\ttest: 1.0456118\tbest: 1.0456116 (139)\ttotal: 7.39s\tremaining: 8.34s\n",
      "141:\tlearn: 1.0454072\ttest: 1.0456114\tbest: 1.0456114 (141)\ttotal: 7.44s\tremaining: 8.28s\n",
      "142:\tlearn: 1.0454063\ttest: 1.0456114\tbest: 1.0456114 (142)\ttotal: 7.49s\tremaining: 8.23s\n",
      "143:\tlearn: 1.0454058\ttest: 1.0456116\tbest: 1.0456114 (142)\ttotal: 7.55s\tremaining: 8.17s\n",
      "144:\tlearn: 1.0454060\ttest: 1.0456112\tbest: 1.0456112 (144)\ttotal: 7.59s\tremaining: 8.12s\n",
      "145:\tlearn: 1.0454056\ttest: 1.0456114\tbest: 1.0456112 (144)\ttotal: 7.65s\tremaining: 8.07s\n",
      "146:\tlearn: 1.0454056\ttest: 1.0456108\tbest: 1.0456108 (146)\ttotal: 7.7s\tremaining: 8.02s\n",
      "147:\tlearn: 1.0454050\ttest: 1.0456111\tbest: 1.0456108 (146)\ttotal: 7.75s\tremaining: 7.96s\n",
      "148:\tlearn: 1.0454047\ttest: 1.0456112\tbest: 1.0456108 (146)\ttotal: 7.8s\tremaining: 7.91s\n",
      "149:\tlearn: 1.0454051\ttest: 1.0456111\tbest: 1.0456108 (146)\ttotal: 7.85s\tremaining: 7.85s\n",
      "150:\tlearn: 1.0454051\ttest: 1.0456107\tbest: 1.0456107 (150)\ttotal: 7.91s\tremaining: 7.8s\n",
      "151:\tlearn: 1.0454043\ttest: 1.0456109\tbest: 1.0456107 (150)\ttotal: 7.96s\tremaining: 7.75s\n",
      "152:\tlearn: 1.0454042\ttest: 1.0456110\tbest: 1.0456107 (150)\ttotal: 8.01s\tremaining: 7.7s\n",
      "153:\tlearn: 1.0454042\ttest: 1.0456102\tbest: 1.0456102 (153)\ttotal: 8.06s\tremaining: 7.64s\n",
      "154:\tlearn: 1.0454040\ttest: 1.0456106\tbest: 1.0456102 (153)\ttotal: 8.12s\tremaining: 7.59s\n",
      "155:\tlearn: 1.0454037\ttest: 1.0456100\tbest: 1.0456100 (155)\ttotal: 8.17s\tremaining: 7.54s\n",
      "156:\tlearn: 1.0454035\ttest: 1.0456106\tbest: 1.0456100 (155)\ttotal: 8.22s\tremaining: 7.49s\n",
      "157:\tlearn: 1.0454026\ttest: 1.0456104\tbest: 1.0456100 (155)\ttotal: 8.27s\tremaining: 7.43s\n",
      "158:\tlearn: 1.0454024\ttest: 1.0456106\tbest: 1.0456100 (155)\ttotal: 8.32s\tremaining: 7.38s\n",
      "159:\tlearn: 1.0454020\ttest: 1.0456105\tbest: 1.0456100 (155)\ttotal: 8.38s\tremaining: 7.33s\n",
      "160:\tlearn: 1.0454018\ttest: 1.0456111\tbest: 1.0456100 (155)\ttotal: 8.43s\tremaining: 7.28s\n",
      "161:\tlearn: 1.0454014\ttest: 1.0456106\tbest: 1.0456100 (155)\ttotal: 8.48s\tremaining: 7.23s\n",
      "162:\tlearn: 1.0454006\ttest: 1.0456106\tbest: 1.0456100 (155)\ttotal: 8.53s\tremaining: 7.17s\n",
      "163:\tlearn: 1.0454006\ttest: 1.0456103\tbest: 1.0456100 (155)\ttotal: 8.59s\tremaining: 7.12s\n",
      "164:\tlearn: 1.0454000\ttest: 1.0456102\tbest: 1.0456100 (155)\ttotal: 8.64s\tremaining: 7.07s\n",
      "165:\tlearn: 1.0453998\ttest: 1.0456099\tbest: 1.0456099 (165)\ttotal: 8.69s\tremaining: 7.01s\n",
      "166:\tlearn: 1.0453993\ttest: 1.0456102\tbest: 1.0456099 (165)\ttotal: 8.74s\tremaining: 6.96s\n",
      "167:\tlearn: 1.0453993\ttest: 1.0456100\tbest: 1.0456099 (165)\ttotal: 8.79s\tremaining: 6.91s\n",
      "168:\tlearn: 1.0453986\ttest: 1.0456103\tbest: 1.0456099 (165)\ttotal: 8.85s\tremaining: 6.86s\n",
      "169:\tlearn: 1.0453987\ttest: 1.0456098\tbest: 1.0456098 (169)\ttotal: 8.9s\tremaining: 6.81s\n",
      "170:\tlearn: 1.0453979\ttest: 1.0456097\tbest: 1.0456097 (170)\ttotal: 8.96s\tremaining: 6.75s\n",
      "171:\tlearn: 1.0453978\ttest: 1.0456098\tbest: 1.0456097 (170)\ttotal: 9.01s\tremaining: 6.7s\n",
      "172:\tlearn: 1.0453977\ttest: 1.0456099\tbest: 1.0456097 (170)\ttotal: 9.06s\tremaining: 6.65s\n",
      "173:\tlearn: 1.0453974\ttest: 1.0456094\tbest: 1.0456094 (173)\ttotal: 9.11s\tremaining: 6.6s\n",
      "174:\tlearn: 1.0453972\ttest: 1.0456093\tbest: 1.0456093 (174)\ttotal: 9.16s\tremaining: 6.54s\n",
      "175:\tlearn: 1.0453971\ttest: 1.0456092\tbest: 1.0456092 (175)\ttotal: 9.22s\tremaining: 6.49s\n",
      "176:\tlearn: 1.0453965\ttest: 1.0456099\tbest: 1.0456092 (175)\ttotal: 9.27s\tremaining: 6.44s\n",
      "177:\tlearn: 1.0453965\ttest: 1.0456099\tbest: 1.0456092 (175)\ttotal: 9.32s\tremaining: 6.39s\n",
      "178:\tlearn: 1.0453961\ttest: 1.0456095\tbest: 1.0456092 (175)\ttotal: 9.37s\tremaining: 6.34s\n",
      "179:\tlearn: 1.0453957\ttest: 1.0456095\tbest: 1.0456092 (175)\ttotal: 9.43s\tremaining: 6.28s\n",
      "180:\tlearn: 1.0453954\ttest: 1.0456095\tbest: 1.0456092 (175)\ttotal: 9.48s\tremaining: 6.23s\n",
      "181:\tlearn: 1.0453954\ttest: 1.0456091\tbest: 1.0456091 (181)\ttotal: 9.53s\tremaining: 6.18s\n",
      "182:\tlearn: 1.0453945\ttest: 1.0456098\tbest: 1.0456091 (181)\ttotal: 9.58s\tremaining: 6.13s\n",
      "183:\tlearn: 1.0453939\ttest: 1.0456093\tbest: 1.0456091 (181)\ttotal: 9.64s\tremaining: 6.08s\n",
      "184:\tlearn: 1.0453936\ttest: 1.0456098\tbest: 1.0456091 (181)\ttotal: 9.69s\tremaining: 6.02s\n",
      "185:\tlearn: 1.0453932\ttest: 1.0456099\tbest: 1.0456091 (181)\ttotal: 9.74s\tremaining: 5.97s\n",
      "186:\tlearn: 1.0453931\ttest: 1.0456098\tbest: 1.0456091 (181)\ttotal: 9.79s\tremaining: 5.92s\n",
      "187:\tlearn: 1.0453927\ttest: 1.0456095\tbest: 1.0456091 (181)\ttotal: 9.85s\tremaining: 5.87s\n",
      "188:\tlearn: 1.0453929\ttest: 1.0456092\tbest: 1.0456091 (181)\ttotal: 9.9s\tremaining: 5.81s\n",
      "189:\tlearn: 1.0453927\ttest: 1.0456097\tbest: 1.0456091 (181)\ttotal: 9.95s\tremaining: 5.76s\n",
      "190:\tlearn: 1.0453928\ttest: 1.0456095\tbest: 1.0456091 (181)\ttotal: 10s\tremaining: 5.71s\n",
      "191:\tlearn: 1.0453927\ttest: 1.0456092\tbest: 1.0456091 (181)\ttotal: 10.1s\tremaining: 5.66s\n",
      "192:\tlearn: 1.0453925\ttest: 1.0456097\tbest: 1.0456091 (181)\ttotal: 10.1s\tremaining: 5.6s\n",
      "193:\tlearn: 1.0453920\ttest: 1.0456090\tbest: 1.0456090 (193)\ttotal: 10.2s\tremaining: 5.55s\n",
      "194:\tlearn: 1.0453917\ttest: 1.0456095\tbest: 1.0456090 (193)\ttotal: 10.2s\tremaining: 5.5s\n",
      "195:\tlearn: 1.0453914\ttest: 1.0456092\tbest: 1.0456090 (193)\ttotal: 10.3s\tremaining: 5.45s\n",
      "196:\tlearn: 1.0453913\ttest: 1.0456093\tbest: 1.0456090 (193)\ttotal: 10.3s\tremaining: 5.39s\n",
      "197:\tlearn: 1.0453902\ttest: 1.0456090\tbest: 1.0456090 (197)\ttotal: 10.4s\tremaining: 5.34s\n",
      "198:\tlearn: 1.0453904\ttest: 1.0456089\tbest: 1.0456089 (198)\ttotal: 10.4s\tremaining: 5.29s\n",
      "199:\tlearn: 1.0453902\ttest: 1.0456093\tbest: 1.0456089 (198)\ttotal: 10.5s\tremaining: 5.23s\n",
      "200:\tlearn: 1.0453899\ttest: 1.0456090\tbest: 1.0456089 (198)\ttotal: 10.5s\tremaining: 5.18s\n",
      "201:\tlearn: 1.0453897\ttest: 1.0456091\tbest: 1.0456089 (198)\ttotal: 10.6s\tremaining: 5.13s\n",
      "202:\tlearn: 1.0453893\ttest: 1.0456093\tbest: 1.0456089 (198)\ttotal: 10.6s\tremaining: 5.08s\n",
      "203:\tlearn: 1.0453892\ttest: 1.0456093\tbest: 1.0456089 (198)\ttotal: 10.7s\tremaining: 5.02s\n",
      "204:\tlearn: 1.0453886\ttest: 1.0456091\tbest: 1.0456089 (198)\ttotal: 10.7s\tremaining: 4.97s\n",
      "205:\tlearn: 1.0453883\ttest: 1.0456090\tbest: 1.0456089 (198)\ttotal: 10.8s\tremaining: 4.92s\n",
      "206:\tlearn: 1.0453881\ttest: 1.0456093\tbest: 1.0456089 (198)\ttotal: 10.8s\tremaining: 4.86s\n",
      "207:\tlearn: 1.0453875\ttest: 1.0456090\tbest: 1.0456089 (198)\ttotal: 10.9s\tremaining: 4.81s\n",
      "208:\tlearn: 1.0453871\ttest: 1.0456083\tbest: 1.0456083 (208)\ttotal: 10.9s\tremaining: 4.76s\n",
      "209:\tlearn: 1.0453866\ttest: 1.0456083\tbest: 1.0456083 (208)\ttotal: 11s\tremaining: 4.71s\n",
      "210:\tlearn: 1.0453865\ttest: 1.0456080\tbest: 1.0456080 (210)\ttotal: 11s\tremaining: 4.66s\n",
      "211:\tlearn: 1.0453863\ttest: 1.0456088\tbest: 1.0456080 (210)\ttotal: 11.1s\tremaining: 4.6s\n",
      "212:\tlearn: 1.0453861\ttest: 1.0456085\tbest: 1.0456080 (210)\ttotal: 11.1s\tremaining: 4.55s\n",
      "213:\tlearn: 1.0453857\ttest: 1.0456082\tbest: 1.0456080 (210)\ttotal: 11.2s\tremaining: 4.5s\n",
      "214:\tlearn: 1.0453856\ttest: 1.0456084\tbest: 1.0456080 (210)\ttotal: 11.2s\tremaining: 4.45s\n",
      "215:\tlearn: 1.0453850\ttest: 1.0456084\tbest: 1.0456080 (210)\ttotal: 11.3s\tremaining: 4.39s\n",
      "216:\tlearn: 1.0453850\ttest: 1.0456087\tbest: 1.0456080 (210)\ttotal: 11.4s\tremaining: 4.34s\n",
      "217:\tlearn: 1.0453844\ttest: 1.0456086\tbest: 1.0456080 (210)\ttotal: 11.4s\tremaining: 4.29s\n",
      "218:\tlearn: 1.0453840\ttest: 1.0456083\tbest: 1.0456080 (210)\ttotal: 11.5s\tremaining: 4.24s\n",
      "219:\tlearn: 1.0453840\ttest: 1.0456084\tbest: 1.0456080 (210)\ttotal: 11.5s\tremaining: 4.18s\n",
      "220:\tlearn: 1.0453838\ttest: 1.0456086\tbest: 1.0456080 (210)\ttotal: 11.6s\tremaining: 4.13s\n",
      "221:\tlearn: 1.0453837\ttest: 1.0456086\tbest: 1.0456080 (210)\ttotal: 11.6s\tremaining: 4.08s\n",
      "222:\tlearn: 1.0453832\ttest: 1.0456083\tbest: 1.0456080 (210)\ttotal: 11.7s\tremaining: 4.03s\n",
      "223:\tlearn: 1.0453832\ttest: 1.0456080\tbest: 1.0456080 (210)\ttotal: 11.7s\tremaining: 3.98s\n",
      "224:\tlearn: 1.0453832\ttest: 1.0456080\tbest: 1.0456080 (210)\ttotal: 11.8s\tremaining: 3.92s\n",
      "225:\tlearn: 1.0453827\ttest: 1.0456084\tbest: 1.0456080 (210)\ttotal: 11.8s\tremaining: 3.87s\n",
      "226:\tlearn: 1.0453826\ttest: 1.0456084\tbest: 1.0456080 (210)\ttotal: 11.9s\tremaining: 3.82s\n",
      "227:\tlearn: 1.0453825\ttest: 1.0456084\tbest: 1.0456080 (210)\ttotal: 11.9s\tremaining: 3.77s\n",
      "228:\tlearn: 1.0453823\ttest: 1.0456085\tbest: 1.0456080 (210)\ttotal: 12s\tremaining: 3.71s\n",
      "229:\tlearn: 1.0453820\ttest: 1.0456084\tbest: 1.0456080 (210)\ttotal: 12s\tremaining: 3.66s\n",
      "230:\tlearn: 1.0453816\ttest: 1.0456087\tbest: 1.0456080 (210)\ttotal: 12.1s\tremaining: 3.61s\n",
      "231:\tlearn: 1.0453813\ttest: 1.0456090\tbest: 1.0456080 (210)\ttotal: 12.1s\tremaining: 3.56s\n",
      "232:\tlearn: 1.0453810\ttest: 1.0456086\tbest: 1.0456080 (210)\ttotal: 12.2s\tremaining: 3.5s\n",
      "233:\tlearn: 1.0453810\ttest: 1.0456086\tbest: 1.0456080 (210)\ttotal: 12.2s\tremaining: 3.45s\n",
      "234:\tlearn: 1.0453813\ttest: 1.0456081\tbest: 1.0456080 (210)\ttotal: 12.3s\tremaining: 3.4s\n",
      "235:\tlearn: 1.0453806\ttest: 1.0456084\tbest: 1.0456080 (210)\ttotal: 12.3s\tremaining: 3.35s\n",
      "236:\tlearn: 1.0453803\ttest: 1.0456084\tbest: 1.0456080 (210)\ttotal: 12.4s\tremaining: 3.29s\n",
      "237:\tlearn: 1.0453800\ttest: 1.0456087\tbest: 1.0456080 (210)\ttotal: 12.4s\tremaining: 3.24s\n",
      "238:\tlearn: 1.0453795\ttest: 1.0456088\tbest: 1.0456080 (210)\ttotal: 12.5s\tremaining: 3.19s\n",
      "239:\tlearn: 1.0453795\ttest: 1.0456082\tbest: 1.0456080 (210)\ttotal: 12.5s\tremaining: 3.14s\n",
      "240:\tlearn: 1.0453790\ttest: 1.0456084\tbest: 1.0456080 (210)\ttotal: 12.6s\tremaining: 3.08s\n",
      "241:\tlearn: 1.0453790\ttest: 1.0456085\tbest: 1.0456080 (210)\ttotal: 12.7s\tremaining: 3.03s\n",
      "242:\tlearn: 1.0453789\ttest: 1.0456081\tbest: 1.0456080 (210)\ttotal: 12.7s\tremaining: 2.98s\n",
      "243:\tlearn: 1.0453785\ttest: 1.0456079\tbest: 1.0456079 (243)\ttotal: 12.8s\tremaining: 2.93s\n",
      "244:\tlearn: 1.0453785\ttest: 1.0456075\tbest: 1.0456075 (244)\ttotal: 12.8s\tremaining: 2.88s\n",
      "245:\tlearn: 1.0453783\ttest: 1.0456080\tbest: 1.0456075 (244)\ttotal: 12.9s\tremaining: 2.82s\n",
      "246:\tlearn: 1.0453783\ttest: 1.0456081\tbest: 1.0456075 (244)\ttotal: 12.9s\tremaining: 2.77s\n",
      "247:\tlearn: 1.0453783\ttest: 1.0456074\tbest: 1.0456074 (247)\ttotal: 13s\tremaining: 2.72s\n",
      "248:\tlearn: 1.0453780\ttest: 1.0456077\tbest: 1.0456074 (247)\ttotal: 13s\tremaining: 2.67s\n",
      "249:\tlearn: 1.0453775\ttest: 1.0456078\tbest: 1.0456074 (247)\ttotal: 13.1s\tremaining: 2.61s\n",
      "250:\tlearn: 1.0453777\ttest: 1.0456075\tbest: 1.0456074 (247)\ttotal: 13.1s\tremaining: 2.56s\n",
      "251:\tlearn: 1.0453771\ttest: 1.0456078\tbest: 1.0456074 (247)\ttotal: 13.2s\tremaining: 2.51s\n",
      "252:\tlearn: 1.0453770\ttest: 1.0456077\tbest: 1.0456074 (247)\ttotal: 13.2s\tremaining: 2.46s\n",
      "253:\tlearn: 1.0453771\ttest: 1.0456086\tbest: 1.0456074 (247)\ttotal: 13.3s\tremaining: 2.41s\n",
      "254:\tlearn: 1.0453766\ttest: 1.0456077\tbest: 1.0456074 (247)\ttotal: 13.3s\tremaining: 2.35s\n",
      "255:\tlearn: 1.0453759\ttest: 1.0456075\tbest: 1.0456074 (247)\ttotal: 13.4s\tremaining: 2.3s\n",
      "256:\tlearn: 1.0453755\ttest: 1.0456075\tbest: 1.0456074 (247)\ttotal: 13.4s\tremaining: 2.25s\n",
      "257:\tlearn: 1.0453757\ttest: 1.0456077\tbest: 1.0456074 (247)\ttotal: 13.5s\tremaining: 2.19s\n",
      "258:\tlearn: 1.0453751\ttest: 1.0456079\tbest: 1.0456074 (247)\ttotal: 13.5s\tremaining: 2.14s\n",
      "259:\tlearn: 1.0453744\ttest: 1.0456080\tbest: 1.0456074 (247)\ttotal: 13.6s\tremaining: 2.09s\n",
      "260:\tlearn: 1.0453742\ttest: 1.0456076\tbest: 1.0456074 (247)\ttotal: 13.6s\tremaining: 2.04s\n",
      "261:\tlearn: 1.0453740\ttest: 1.0456074\tbest: 1.0456074 (261)\ttotal: 13.7s\tremaining: 1.99s\n",
      "262:\tlearn: 1.0453737\ttest: 1.0456081\tbest: 1.0456074 (261)\ttotal: 13.7s\tremaining: 1.93s\n",
      "263:\tlearn: 1.0453741\ttest: 1.0456082\tbest: 1.0456074 (261)\ttotal: 13.8s\tremaining: 1.88s\n",
      "264:\tlearn: 1.0453736\ttest: 1.0456080\tbest: 1.0456074 (261)\ttotal: 13.9s\tremaining: 1.83s\n",
      "265:\tlearn: 1.0453732\ttest: 1.0456077\tbest: 1.0456074 (261)\ttotal: 13.9s\tremaining: 1.78s\n",
      "266:\tlearn: 1.0453730\ttest: 1.0456078\tbest: 1.0456074 (261)\ttotal: 14s\tremaining: 1.73s\n",
      "267:\tlearn: 1.0453732\ttest: 1.0456081\tbest: 1.0456074 (261)\ttotal: 14s\tremaining: 1.67s\n",
      "268:\tlearn: 1.0453731\ttest: 1.0456081\tbest: 1.0456074 (261)\ttotal: 14.1s\tremaining: 1.62s\n",
      "269:\tlearn: 1.0453730\ttest: 1.0456078\tbest: 1.0456074 (261)\ttotal: 14.1s\tremaining: 1.57s\n",
      "270:\tlearn: 1.0453728\ttest: 1.0456081\tbest: 1.0456074 (261)\ttotal: 14.2s\tremaining: 1.52s\n",
      "271:\tlearn: 1.0453719\ttest: 1.0456082\tbest: 1.0456074 (261)\ttotal: 14.2s\tremaining: 1.46s\n",
      "272:\tlearn: 1.0453715\ttest: 1.0456083\tbest: 1.0456074 (261)\ttotal: 14.3s\tremaining: 1.41s\n",
      "273:\tlearn: 1.0453715\ttest: 1.0456078\tbest: 1.0456074 (261)\ttotal: 14.3s\tremaining: 1.36s\n",
      "274:\tlearn: 1.0453709\ttest: 1.0456080\tbest: 1.0456074 (261)\ttotal: 14.4s\tremaining: 1.31s\n",
      "275:\tlearn: 1.0453709\ttest: 1.0456083\tbest: 1.0456074 (261)\ttotal: 14.4s\tremaining: 1.25s\n",
      "276:\tlearn: 1.0453704\ttest: 1.0456086\tbest: 1.0456074 (261)\ttotal: 14.5s\tremaining: 1.2s\n",
      "277:\tlearn: 1.0453704\ttest: 1.0456087\tbest: 1.0456074 (261)\ttotal: 14.5s\tremaining: 1.15s\n",
      "278:\tlearn: 1.0453700\ttest: 1.0456087\tbest: 1.0456074 (261)\ttotal: 14.6s\tremaining: 1.1s\n",
      "279:\tlearn: 1.0453699\ttest: 1.0456081\tbest: 1.0456074 (261)\ttotal: 14.6s\tremaining: 1.04s\n",
      "280:\tlearn: 1.0453697\ttest: 1.0456086\tbest: 1.0456074 (261)\ttotal: 14.7s\tremaining: 993ms\n",
      "281:\tlearn: 1.0453694\ttest: 1.0456083\tbest: 1.0456074 (261)\ttotal: 14.7s\tremaining: 941ms\n",
      "282:\tlearn: 1.0453697\ttest: 1.0456080\tbest: 1.0456074 (261)\ttotal: 14.8s\tremaining: 889ms\n",
      "283:\tlearn: 1.0453694\ttest: 1.0456086\tbest: 1.0456074 (261)\ttotal: 14.8s\tremaining: 836ms\n",
      "284:\tlearn: 1.0453693\ttest: 1.0456089\tbest: 1.0456074 (261)\ttotal: 14.9s\tremaining: 784ms\n",
      "285:\tlearn: 1.0453695\ttest: 1.0456092\tbest: 1.0456074 (261)\ttotal: 15s\tremaining: 732ms\n",
      "286:\tlearn: 1.0453691\ttest: 1.0456092\tbest: 1.0456074 (261)\ttotal: 15s\tremaining: 680ms\n",
      "287:\tlearn: 1.0453687\ttest: 1.0456097\tbest: 1.0456074 (261)\ttotal: 15.1s\tremaining: 627ms\n",
      "288:\tlearn: 1.0453681\ttest: 1.0456093\tbest: 1.0456074 (261)\ttotal: 15.1s\tremaining: 575ms\n",
      "289:\tlearn: 1.0453678\ttest: 1.0456092\tbest: 1.0456074 (261)\ttotal: 15.2s\tremaining: 523ms\n",
      "290:\tlearn: 1.0453681\ttest: 1.0456095\tbest: 1.0456074 (261)\ttotal: 15.2s\tremaining: 470ms\n",
      "291:\tlearn: 1.0453679\ttest: 1.0456097\tbest: 1.0456074 (261)\ttotal: 15.3s\tremaining: 418ms\n",
      "292:\tlearn: 1.0453674\ttest: 1.0456094\tbest: 1.0456074 (261)\ttotal: 15.3s\tremaining: 366ms\n",
      "293:\tlearn: 1.0453672\ttest: 1.0456093\tbest: 1.0456074 (261)\ttotal: 15.4s\tremaining: 314ms\n",
      "294:\tlearn: 1.0453670\ttest: 1.0456097\tbest: 1.0456074 (261)\ttotal: 15.4s\tremaining: 261ms\n",
      "295:\tlearn: 1.0453668\ttest: 1.0456097\tbest: 1.0456074 (261)\ttotal: 15.5s\tremaining: 209ms\n",
      "296:\tlearn: 1.0453668\ttest: 1.0456096\tbest: 1.0456074 (261)\ttotal: 15.5s\tremaining: 157ms\n",
      "297:\tlearn: 1.0453664\ttest: 1.0456101\tbest: 1.0456074 (261)\ttotal: 15.6s\tremaining: 105ms\n",
      "298:\tlearn: 1.0453664\ttest: 1.0456097\tbest: 1.0456074 (261)\ttotal: 15.6s\tremaining: 52.3ms\n",
      "299:\tlearn: 1.0453655\ttest: 1.0456094\tbest: 1.0456074 (261)\ttotal: 15.7s\tremaining: 0us\n",
      "bestTest = 1.045607359\n",
      "bestIteration = 261\n",
      "Shrink model to first 262 iterations.\n"
     ]
    },
    {
     "data": {
      "text/plain": [
       "<catboost.core.CatBoostRegressor at 0x19535995f30>"
      ]
     },
     "execution_count": 7,
     "metadata": {},
     "output_type": "execute_result"
    }
   ],
   "source": [
    "catboost_model = CatBoostRegressor(iterations=300, depth=4, learning_rate=0.1, loss_function='RMSE', task_type='GPU', devices='0:1', verbose=True)\n",
    "catboost_model.fit(train_dataset.X, train_dataset.y, eval_set=(val_dataset.X, val_dataset.y), verbose=True)\n",
    "\n"
   ]
  },
  {
   "cell_type": "code",
   "execution_count": 8,
   "metadata": {},
   "outputs": [],
   "source": [
    "predictions = catboost_model.predict(val_dataset.X)\n"
   ]
  },
  {
   "cell_type": "code",
   "execution_count": 9,
   "metadata": {},
   "outputs": [],
   "source": [
    "#plot average reward for samples with prediction above threshold\n",
    "\n",
    "thresholds = np.linspace(0,1,100)\n",
    "average_rewards = []\n",
    "average_bet = []\n",
    "counts = []\n",
    "dynamic_average_rewards = []\n",
    "odds = 20.0\n",
    "for threshold in thresholds:\n",
    "    mask = predictions > threshold\n",
    "    p = val_dataset.y[mask]\n",
    "    #find remaining samples\n",
    "    not_p = val_dataset.y[~mask]\n",
    "    if len(p) == 0:\n",
    "        thresholds = thresholds[:np.where(thresholds == threshold)[0][0]]\n",
    "        break\n",
    "    count = len(p)\n",
    "    counts.append(count)\n",
    "    average_reward= np.mean(p)\n",
    "    average_rewards.append(average_reward)\n",
    "    not_p_average_reward = np.mean(not_p)\n",
    "    #do a weighted average\n",
    "    dynamic_reward = (average_reward*odds*count + not_p_average_reward*len(not_p))/(odds*count + len(not_p))\n",
    "    dynamic_average_rewards.append(dynamic_reward)\n",
    "\n",
    "\n",
    "\n"
   ]
  },
  {
   "cell_type": "code",
   "execution_count": 10,
   "metadata": {},
   "outputs": [
    {
     "data": {
      "image/png": "[encoded data removed]",
      "text/plain": [
       "<Figure size 640x480 with 2 Axes>"
      ]
     },
     "metadata": {},
     "output_type": "display_data"
    }
   ],
   "source": [
    "\n",
    "#plot average reward on one axis and count on the other\n",
    "fig, ax1 = plt.subplots()\n",
    "color = 'tab:red'\n",
    "ax1.set_xlabel('Threshold')\n",
    "ax1.set_ylabel('Average Reward', color=color)\n",
    "ax1.plot(thresholds, average_rewards, color=color)\n",
    "ax1.tick_params(axis='y', labelcolor=color)\n",
    "\n",
    "ax2 = ax1.twinx()\n",
    "color = 'tab:blue'\n",
    "ax2.set_ylabel('Count', color=color)\n",
    "ax2.plot(thresholds, counts, color=color)\n",
    "ax2.tick_params(axis='y', labelcolor=color)"
   ]
  },
  {
   "cell_type": "code",
   "execution_count": 11,
   "metadata": {},
   "outputs": [
    {
     "data": {
      "text/plain": [
       "Text(0.5, 1.0, 'Dynamic Average Reward vs Threshold')"
      ]
     },
     "execution_count": 11,
     "metadata": {},
     "output_type": "execute_result"
    },
    {
     "data": {
      "image/png": "[encoded data removed]",
      "text/plain": [
       "<Figure size 640x480 with 1 Axes>"
      ]
     },
     "metadata": {},
     "output_type": "display_data"
    }
   ],
   "source": [
    "#plot the dynamic betting rewards for each threshold\n",
    "plt.figure()\n",
    "plt.plot(thresholds, dynamic_average_rewards)\n",
    "plt.xlabel('Threshold')\n",
    "plt.ylabel('Dynamic Average Reward')\n",
    "plt.title('Dynamic Average Reward vs Threshold')\n"
   ]
  },
  {
   "cell_type": "code",
   "execution_count": 12,
   "metadata": {},
   "outputs": [
    {
     "name": "stdout",
     "output_type": "stream",
     "text": [
      "Best threshold: 0.05050505050505051\n",
      "Best dynamic average reward: 0.04585151927704613\n",
      "number of samples with high bets: 149836\n"
     ]
    }
   ],
   "source": [
    "best_threshold = thresholds[np.argmax(dynamic_average_rewards)]\n",
    "print(f\"Best threshold: {thresholds[np.argmax(dynamic_average_rewards)]}\") \n",
    "print(f\"Best dynamic average reward: {np.max(dynamic_average_rewards)}\")\n",
    "print(f\"number of samples with high bets: {counts[np.argmax(dynamic_average_rewards)]}\")"
   ]
  },
  {
   "cell_type": "code",
   "execution_count": 13,
   "metadata": {},
   "outputs": [],
   "source": [
    "# save model\n",
    "model_name = dataset_name.replace('dataset.csv', 'catboost_model.cbm')\n",
    "catboost_model.save_model('data/classifiers/' + model_name)"
   ]
  },
  {
   "cell_type": "code",
   "execution_count": 15,
   "metadata": {},
   "outputs": [
    {
     "name": "stdout",
     "output_type": "stream",
     "text": [
      "0.05050505050505051\n"
     ]
    }
   ],
   "source": [
    "print(best_threshold)"
   ]
  },
  {
   "cell_type": "code",
   "execution_count": 16,
   "metadata": {},
   "outputs": [],
   "source": [
    "np.save('data/classifiers/' + model_name.replace('catboost_model.cbm', 'threshold.npy'), best_threshold)"
   ]
  }
 ],
 "metadata": {
  "kernelspec": {
   "display_name": ".venv",
   "language": "python",
   "name": "python3"
  },
  "language_info": {
   "codemirror_mode": {
    "name": "ipython",
    "version": 3
   },
   "file_extension": ".py",
   "mimetype": "text/x-python",
   "name": "python",
   "nbconvert_exporter": "python",
   "pygments_lexer": "ipython3",
   "version": "3.10.11"
  }
 },
 "nbformat": 4,
 "nbformat_minor": 2
}
